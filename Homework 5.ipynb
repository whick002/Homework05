{
 "cells": [
  {
   "cell_type": "markdown",
   "metadata": {},
   "source": [
    "# Homework 5: This or Physics Hack Day\n",
    "\n",
    "Physics 177, Spring 2017 (Prof. Tanedo)  \n",
    "Revised: Monday, May 15th  \n",
    "Due: Tuesday, May 16    \n",
    "\n",
    "*William Hicks*\n",
    "\n",
    "**Important**: This homework is optional **if** you participate in Physics Hack Day:  \n",
    "http://theory.ucr.edu/PhysicsHackDay/\n",
    "\n",
    "If you do so, please delete all of the cells below and replace it with a link to the Physics Hack Day GitHub repository to which you contributed. \n"
   ]
  },
  {
   "cell_type": "markdown",
   "metadata": {},
   "source": [
    "## Problem 1: Double Pendulum\n",
    "\n",
    "In this problem, you will extend the simple pendulum in <a href=\"https://github.com/Physics177-2017/Homework04\">Homework 4</a> to a <a href=\"https://en.wikipedia.org/wiki/Double_pendulum\">double pendulum</a>.\n",
    "\n",
    "<img src=\"hw5pendulum.png\">  \n",
    "Image from <a href=\"https://commons.wikimedia.org/wiki/File:Double-Pendulum.svg\">Wikimedia Commons</a>\n",
    "\n",
    "Assume no forces other than gravity. Do not assume the small angle approximation. \n",
    "\n",
    "Plot the trajectory of the double pendulum for a few different initial conditions. Your goal is to reproduce the cool-looking trajectories in the  <a href=\"https://en.wikipedia.org/wiki/Double_pendulum\">Wikipedia article</a>, for example:\n",
    "\n",
    "<img src=\"hw5_doublepic.jpg\">\n",
    "\n",
    "** Update (5/15) **: you may use the equations of motion from exercise 8.14 of the book. This assumes equal masses and equal length pendulum rods.\n",
    "\n",
    "<img src=\"HW5_EOM.png\">\n",
    "\n",
    "** Check **: for the following parameters:\n",
    "\n",
    "`g = 9.8`  \n",
    "`dt = 0.01`  \n",
    "\n",
    "\n",
    "`L1 = 1.0`  \n",
    "`L2 = 1.0`  \n",
    "`m1 = 1.0`  \n",
    "`m2 = 1.0`  \n",
    "\n",
    "`omega1_init = 0.0`  \n",
    "`omega2_init = 0.0`\n",
    "\n",
    "I obtained:\n",
    "\n",
    "<img src=\"HW5_Prob1.png\">"
   ]
  },
  {
   "cell_type": "code",
   "execution_count": 151,
   "metadata": {
    "collapsed": false
   },
   "outputs": [
    {
     "data": {
      "image/png": "[encoded data removed]",
      "text/plain": [
       "<matplotlib.figure.Figure at 0x1112a7710>"
      ]
     },
     "metadata": {},
     "output_type": "display_data"
    }
   ],
   "source": [
    "%matplotlib inline\n",
    "import numpy as np\n",
    "from math import sin as sin\n",
    "from math import cos as cos\n",
    "import matplotlib.pyplot as plt\n",
    "\n",
    "g=9.8\n",
    "dt=0.01\n",
    "L=1.0\n",
    "m=1.0\n",
    "omega_init=0.0\n",
    "theta_init=2.0\n",
    "t_init=0.0\n",
    "t_fin=20.0\n",
    "\n",
    "def dwdt1(theta1,omega1,theta2,omega2):\n",
    "    num=-((omega1**2)*sin(2*theta1-2*theta2)+2*(omega2**2)*sin(theta1-theta2)+(g/L)*(sin(theta1-2*theta2)+3*sin(theta1)))\n",
    "    denom=3-cos(2*theta1-2*theta2)\n",
    "    return num/denom\n",
    "\n",
    "def dwdt2(theta1,omega1,theta2,omega2):\n",
    "    num=(4*(omega1**2))*sin(theta1-theta2)+(omega2**2)*sin(2*theta1-2*theta2)+2*(g/L)*(sin(2*theta1-theta2)-sin(theta2))\n",
    "    denom=3-cos(2*theta1-2*theta2)\n",
    "    return num/denom\n",
    "\n",
    "def times_and_angles(theta_init,omega_init,t_init,t_fin):\n",
    "    theta1_points=[]\n",
    "    omega1_points=[]\n",
    "    \n",
    "    theta2_points=[]\n",
    "    omega2_points=[]\n",
    "    \n",
    "    theta1=theta_init\n",
    "    omega1=omega_init\n",
    "    \n",
    "    theta2=theta_init\n",
    "    omega2=omega_init\n",
    "    \n",
    "    tpoints=np.arange(t_init,t_fin,dt)\n",
    "    \n",
    "    theta1_half = dt*omega1\n",
    "    omega1_half = dt*dwdt1(theta1,omega1,theta2,omega2)\n",
    "    theta2_half = dt*omega2\n",
    "    omega2_half = dt*dwdt2(theta1,omega1,theta2,omega2)\n",
    "    \n",
    "    for t in tpoints:\n",
    "        theta1_points.append(theta1)\n",
    "        omega1_points.append(omega1)\n",
    "        theta2_points.append(theta2)\n",
    "        omega2_points.append(omega2)\n",
    "\n",
    "        theta1_half += 0.5*dt*omega1_points[-1]\n",
    "        omega1_half += 0.5*dt*dwdt1(theta1_points[-1],omega1_points[-1],theta2_points[-1],omega2_points[-1])\n",
    "        theta2_half += 0.5*dt*omega2_points[-1]\n",
    "        omega2_half += 0.5*dt*dwdt2(theta1_points[-1],omega1_points[-1],theta2_points[-1],omega2_points[-1])\n",
    "        \n",
    "        theta1 += dt*omega1_half\n",
    "        omega1 += dt*dwdt1(theta1_half,omega1_points[-1],theta2_half,omega2_points[-1])\n",
    "        theta2 += dt*omega2_half\n",
    "        omega2 += dt*dwdt2(theta1_half,omega1_half,theta2_half,omega2_half)\n",
    "        \n",
    "    tt = np.array(tpoints)\n",
    "    thetas1 = np.array(theta1_points)\n",
    "    omegas1 = np.array(omega1_points)\n",
    "    thetas2 = np.array(theta2_points)\n",
    "    omegas2 = np.array(omega2_points)\n",
    "    \n",
    "    return tt,thetas1,omegas1,thetas2,omegas2\n",
    "\n",
    "times,thetas1,omegas1,thetas2,omegas2=times_and_angles(theta_init,omega_init,t_init,t_fin)\n",
    "xs1=L*np.sin(thetas1)\n",
    "xs2=L*np.sin(thetas2)\n",
    "ys1=L*(1-np.cos(thetas1))\n",
    "ys2=L*(1-np.cos(thetas2))\n",
    "\n",
    "plt.plot(xs1,ys1,c='b',label='First Bob')\n",
    "plt.plot(xs2,ys2,c='orange',label='Second Bob')\n",
    "plt.xlabel('x position')\n",
    "plt.ylabel('y position')\n",
    "plt.show()"
   ]
  },
  {
   "cell_type": "markdown",
   "metadata": {},
   "source": [
    "I am not sure why this isn't working $\\ddot\\frown$"
   ]
  },
  {
   "cell_type": "markdown",
   "metadata": {},
   "source": [
    "## Problem 1, extra credit:\n",
    "\n",
    "I think the double pendulum trajectories are really neat. They're a very simple system with surprisingly complex behavior. (Maybe it's just surprising to me?) For extra credit (or for inspiration for Physics Hack Day), consider some of the following:\n",
    "\n",
    "* Make an animation of the double pendulum trajectory. You can simultaneously animate the trajectories of both weights, see <a href=\"https://en.wikipedia.org/wiki/Double_pendulum#/media/File:Trajektorie_eines_Doppelpendels.gif\">this  example</a>. \n",
    "* In your animation above, can you also do the \"gradual fading\" of the older trajectory points that is demonstrated in the example?\n",
    "* Here's something really cool: can you **sonify** the trajectory? Map the *velocity* of the mass to a pitch and then play the pitch as the pendulum moves. In this way, you model the *Doppler shift* of a buzzer attached to the double pendulum. You can find an example of the implementation of the `scipy` sound library <a href=\"https://losc.ligo.org/s/events/GW150914/GW150914_tutorial.html\">here</a>... which is itself a fantastic example of a Jupyter notebook in Nobel-prize-worthy research.\n",
    "* Triple pendulum?! (If you need inspiration: https://www.youtube.com/watch?v=OQSNhk5ICTI) ... *no, it turns out that this is really hard.*"
   ]
  },
  {
   "cell_type": "markdown",
   "metadata": {},
   "source": [
    "## Problem 2: Poisson Equation\n",
    "\n",
    "The Poisson equation in two dimension is:\n",
    "\n",
    "$$\\displaystyle \\partial_x^2 \\phi(x,y) + \\partial_y^2 \\phi(x,y) = -\\rho(x,y)$$\n",
    "\n",
    "We have picked units where $\\varepsilon_0 = 1$ and $\\rho$ is the charge density.\n",
    "\n",
    "This is similar to the <a href=\"https://github.com/Physics177-2017/Lec11-PDE/blob/master/Lecture%2011%20Preview.ipynb\">Lecture 11</a> demo, except that now there are source charges. \n",
    "\n",
    "Numerically solve the Poisson equation following two dimensional system (Newman Example 9.2):\n",
    "\n",
    "<img src=\"HW5_NewmanFig9.4.png\">\n",
    "\n",
    "This is a 2D with size 100 cm by 100 cm. There are smaller 20 cm by 20 cm squares. The one on the upper right has charge density $\\rho = +1/\\text{cm}^2$ and the one on the lower left has charge density $\\rho = -1/\\text{cm}^2$. The boundaries of the large square are set to zero potential. \n",
    "\n",
    "Solve for the potential, $\\phi$, everywhere in the large square. Plot the potential. I leave it to you to pick a discretization (step size) that is sufficiently fast while also demonstrating the correct behavior. \n",
    "\n",
    "Hint: before you do anything, you should guess what the expected result should be."
   ]
  },
  {
   "cell_type": "code",
   "execution_count": 137,
   "metadata": {
    "collapsed": false
   },
   "outputs": [
    {
     "data": {
      "image/png": "[encoded data removed]",
      "text/plain": [
       "<matplotlib.figure.Figure at 0x1141e6850>"
      ]
     },
     "metadata": {},
     "output_type": "display_data"
    }
   ],
   "source": [
    "M=5\n",
    "phi=np.zeros((M+1,M+1),float)\n",
    "phiprime=np.zeros((M+1,M+1),float)\n",
    "target=1e-2\n",
    "delta=1\n",
    "\n",
    "while delta>target:\n",
    "    for y in range(M):\n",
    "        for x in range(M):\n",
    "            if (x==1 and y==1):\n",
    "                phi[y,x]=-1\n",
    "            elif (x==3 and y==3):\n",
    "                phi[y,x]=+1\n",
    "            else:\n",
    "                phiprime[y,x]=(phi[y+1,x]+phi[y-1,x]+phi[y,x+1]+phi[y,x-1])/4\n",
    "    delta=np.max(np.abs(phi-phiprime))\n",
    " \n",
    "    phi,phiprime=phiprime,phi\n",
    "\n",
    "xx, yy = np.meshgrid(np.arange(M+1),np.arange(M+1))\n",
    "plt.pcolormesh(xx,yy,phi)\n",
    "plt.colorbar()\n",
    "plt.show()\n"
   ]
  },
  {
   "cell_type": "code",
   "execution_count": null,
   "metadata": {
    "collapsed": true
   },
   "outputs": [],
   "source": []
  }
 ],
 "metadata": {
  "kernelspec": {
   "display_name": "Python 2",
   "language": "python",
   "name": "python2"
  },
  "language_info": {
   "codemirror_mode": {
    "name": "ipython",
    "version": 2
   },
   "file_extension": ".py",
   "mimetype": "text/x-python",
   "name": "python",
   "nbconvert_exporter": "python",
   "pygments_lexer": "ipython2",
   "version": "2.7.11"
  }
 },
 "nbformat": 4,
 "nbformat_minor": 2
}
